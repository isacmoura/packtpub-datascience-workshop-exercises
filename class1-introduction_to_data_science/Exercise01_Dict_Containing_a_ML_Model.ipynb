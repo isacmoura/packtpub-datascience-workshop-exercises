{
  "nbformat": 4,
  "nbformat_minor": 0,
  "metadata": {
    "colab": {
      "name": "Exercise01-Dict_Containing_a_ML_Model.ipynb",
      "provenance": []
    },
    "kernelspec": {
      "name": "python3",
      "display_name": "Python 3"
    }
  },
  "cells": [
    {
      "cell_type": "markdown",
      "metadata": {
        "id": "M5U_hwUUtXV2",
        "colab_type": "text"
      },
      "source": [
        "# Creating a dictionary to save Machine Learning models informations\n",
        "\n",
        "First, we iniatialize a list with some algorithm name, type of learning and type of the algorithm."
      ]
    },
    {
      "cell_type": "code",
      "metadata": {
        "id": "iVj9W7I3vTly",
        "colab_type": "code",
        "colab": {}
      },
      "source": [
        "algorithm = [\"Linear Regression\", \"Logistic Regression\", \"RandomForest\", \"a3c\"]"
      ],
      "execution_count": 0,
      "outputs": []
    },
    {
      "cell_type": "code",
      "metadata": {
        "id": "OAWAZufY2KeP",
        "colab_type": "code",
        "colab": {}
      },
      "source": [
        "learning = [\"Supervised\", \"Supervised\", \"Supervised\", \"Reinforcement\"]"
      ],
      "execution_count": 0,
      "outputs": []
    },
    {
      "cell_type": "code",
      "metadata": {
        "id": "czAoOXn42WjY",
        "colab_type": "code",
        "colab": {}
      },
      "source": [
        "algorithm_type = ['Regression', 'Classification', 'Regression or Classification', 'Game AI']"
      ],
      "execution_count": 0,
      "outputs": []
    },
    {
      "cell_type": "markdown",
      "metadata": {
        "id": "jOMpwnfDt3br",
        "colab_type": "text"
      },
      "source": [
        "After, we add information aboout **K-means** algorithm."
      ]
    },
    {
      "cell_type": "code",
      "metadata": {
        "id": "JeEk1i-o2dns",
        "colab_type": "code",
        "colab": {}
      },
      "source": [
        "algorithm.append(\"K-means\")"
      ],
      "execution_count": 0,
      "outputs": []
    },
    {
      "cell_type": "code",
      "metadata": {
        "id": "BeapFrf52ocS",
        "colab_type": "code",
        "outputId": "20c2c2cf-03ba-4116-cae7-74967970a41a",
        "colab": {
          "base_uri": "https://localhost:8080/",
          "height": 36
        }
      },
      "source": [
        "print(algorithm)"
      ],
      "execution_count": 0,
      "outputs": [
        {
          "output_type": "stream",
          "text": [
            "['Linear Regression', 'Logistic Regression', 'RandomForest', 'a3c', 'K-means']\n"
          ],
          "name": "stdout"
        }
      ]
    },
    {
      "cell_type": "code",
      "metadata": {
        "id": "PefHBwsH2r2C",
        "colab_type": "code",
        "colab": {}
      },
      "source": [
        "learning.append(\"Unsupervised\")"
      ],
      "execution_count": 0,
      "outputs": []
    },
    {
      "cell_type": "code",
      "metadata": {
        "id": "YqkTJaQo2y5d",
        "colab_type": "code",
        "outputId": "a0d7abb1-6301-4566-99dd-4a9e24a1d140",
        "colab": {
          "base_uri": "https://localhost:8080/",
          "height": 36
        }
      },
      "source": [
        "print(learning)"
      ],
      "execution_count": 0,
      "outputs": [
        {
          "output_type": "stream",
          "text": [
            "['Supervised', 'Supervised', 'Supervised', 'Reinforcement', 'Unsupervised']\n"
          ],
          "name": "stdout"
        }
      ]
    },
    {
      "cell_type": "code",
      "metadata": {
        "id": "h-NCDa9X24Xj",
        "colab_type": "code",
        "colab": {}
      },
      "source": [
        "algorithm_type.append('Clustering')"
      ],
      "execution_count": 0,
      "outputs": []
    },
    {
      "cell_type": "code",
      "metadata": {
        "id": "D1Ulhp9228Pk",
        "colab_type": "code",
        "outputId": "345aa15a-beec-4ba4-a896-72faa7f93c78",
        "colab": {
          "base_uri": "https://localhost:8080/",
          "height": 36
        }
      },
      "source": [
        "print(algorithm_type)"
      ],
      "execution_count": 0,
      "outputs": [
        {
          "output_type": "stream",
          "text": [
            "['Regression', 'Classification', 'Regression or Classification', 'Game AI', 'Clustering']\n"
          ],
          "name": "stdout"
        }
      ]
    },
    {
      "cell_type": "markdown",
      "metadata": {
        "id": "khT2RVDMuAPw",
        "colab_type": "text"
      },
      "source": [
        "Now we are going to put these lists into a dict named `machine_learning`."
      ]
    },
    {
      "cell_type": "code",
      "metadata": {
        "id": "xddDXr8V3Mqe",
        "colab_type": "code",
        "colab": {}
      },
      "source": [
        "machine_learning = {}"
      ],
      "execution_count": 0,
      "outputs": []
    },
    {
      "cell_type": "code",
      "metadata": {
        "id": "AxuyolAK3a9l",
        "colab_type": "code",
        "colab": {}
      },
      "source": [
        "machine_learning['algorithm'] = algorithm"
      ],
      "execution_count": 0,
      "outputs": []
    },
    {
      "cell_type": "code",
      "metadata": {
        "id": "VYc-DG143e4F",
        "colab_type": "code",
        "outputId": "e817ec22-3ff0-4116-b23c-edde9fe08d1b",
        "colab": {
          "base_uri": "https://localhost:8080/",
          "height": 36
        }
      },
      "source": [
        "print(machine_learning)"
      ],
      "execution_count": 0,
      "outputs": [
        {
          "output_type": "stream",
          "text": [
            "{'algorithm': ['Linear Regression', 'Logistic Regression', 'RandomForest', 'a3c', 'K-means']}\n"
          ],
          "name": "stdout"
        }
      ]
    },
    {
      "cell_type": "code",
      "metadata": {
        "id": "1UU-Uh6N3hBt",
        "colab_type": "code",
        "colab": {}
      },
      "source": [
        "machine_learning['learning'] = learning"
      ],
      "execution_count": 0,
      "outputs": []
    },
    {
      "cell_type": "code",
      "metadata": {
        "id": "GEHVZf5C3sOi",
        "colab_type": "code",
        "colab": {}
      },
      "source": [
        "machine_learning['algorithm_type'] = algorithm_type"
      ],
      "execution_count": 0,
      "outputs": []
    },
    {
      "cell_type": "code",
      "metadata": {
        "id": "gYnDi5Mu3vXY",
        "colab_type": "code",
        "outputId": "18dc1d9f-1103-41dd-d02c-d9386e6fb7dc",
        "colab": {
          "base_uri": "https://localhost:8080/",
          "height": 56
        }
      },
      "source": [
        "print(machine_learning)"
      ],
      "execution_count": 0,
      "outputs": [
        {
          "output_type": "stream",
          "text": [
            "{'algorithm': ['Linear Regression', 'Logistic Regression', 'RandomForest', 'a3c', 'K-means'], 'learning': ['Supervised', 'Supervised', 'Supervised', 'Reinforcement', 'Unsupervised'], 'algorithm_type': ['Regression', 'Classification', 'Regression or Classification', 'Game AI', 'Clustering']}\n"
          ],
          "name": "stdout"
        }
      ]
    },
    {
      "cell_type": "markdown",
      "metadata": {
        "id": "IlxaCcomuLwt",
        "colab_type": "text"
      },
      "source": [
        "After that, we'll remove the `a3c` algorithm and his information from our dict."
      ]
    },
    {
      "cell_type": "code",
      "metadata": {
        "id": "R0tm_HYz3ytK",
        "colab_type": "code",
        "colab": {}
      },
      "source": [
        "machine_learning['algorithm'].remove('a3c')"
      ],
      "execution_count": 0,
      "outputs": []
    },
    {
      "cell_type": "code",
      "metadata": {
        "id": "VksWzo3O32le",
        "colab_type": "code",
        "outputId": "f784ac36-bfd4-4ec4-b9d9-99b379befcd8",
        "colab": {
          "base_uri": "https://localhost:8080/",
          "height": 36
        }
      },
      "source": [
        "print(machine_learning['algorithm'])"
      ],
      "execution_count": 0,
      "outputs": [
        {
          "output_type": "stream",
          "text": [
            "['Linear Regression', 'Logistic Regression', 'RandomForest', 'K-means']\n"
          ],
          "name": "stdout"
        }
      ]
    },
    {
      "cell_type": "code",
      "metadata": {
        "id": "RTwfQLCs36bf",
        "colab_type": "code",
        "colab": {}
      },
      "source": [
        "machine_learning['learning'].remove('Reinforcement')"
      ],
      "execution_count": 0,
      "outputs": []
    },
    {
      "cell_type": "code",
      "metadata": {
        "id": "zqIarAbO3-Lx",
        "colab_type": "code",
        "colab": {}
      },
      "source": [
        "machine_learning['algorithm_type'].remove('Game AI')"
      ],
      "execution_count": 0,
      "outputs": []
    },
    {
      "cell_type": "markdown",
      "metadata": {
        "id": "0V84ZTcjuZBf",
        "colab_type": "text"
      },
      "source": [
        "At least, let's print all the information stored into our dictionary."
      ]
    },
    {
      "cell_type": "code",
      "metadata": {
        "id": "sq6qcK1a4C0p",
        "colab_type": "code",
        "outputId": "8e403021-86a1-4a9b-d363-b887fdd92415",
        "colab": {
          "base_uri": "https://localhost:8080/",
          "height": 56
        }
      },
      "source": [
        "print(machine_learning)"
      ],
      "execution_count": 0,
      "outputs": [
        {
          "output_type": "stream",
          "text": [
            "{'algorithm': ['Linear Regression', 'Logistic Regression', 'RandomForest', 'K-means'], 'learning': ['Supervised', 'Supervised', 'Supervised', 'Unsupervised'], 'algorithm_type': ['Regression', 'Classification', 'Regression or Classification', 'Clustering']}\n"
          ],
          "name": "stdout"
        }
      ]
    }
  ]
}