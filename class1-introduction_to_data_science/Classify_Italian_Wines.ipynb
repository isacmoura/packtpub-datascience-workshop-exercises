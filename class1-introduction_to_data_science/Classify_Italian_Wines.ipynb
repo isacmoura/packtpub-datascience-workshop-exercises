{
  "nbformat": 4,
  "nbformat_minor": 0,
  "metadata": {
    "colab": {
      "name": "Classify_Italian_Wines.ipynb",
      "provenance": [],
      "collapsed_sections": []
    },
    "kernelspec": {
      "name": "python3",
      "display_name": "Python 3"
    }
  },
  "cells": [
    {
      "cell_type": "markdown",
      "metadata": {
        "id": "PEAwQONM24aK",
        "colab_type": "text"
      },
      "source": [
        "# Classify italian wines using Sklearn"
      ]
    },
    {
      "cell_type": "markdown",
      "metadata": {
        "id": "tpC7iWTo3CAF",
        "colab_type": "text"
      },
      "source": [
        "First, let's import what we'll need to use in this exercise.  \n",
        "We are going to use sklearn, that is a popular library with algorithms, metrics and so on."
      ]
    },
    {
      "cell_type": "code",
      "metadata": {
        "id": "iJufUDwmBWdm",
        "colab_type": "code",
        "colab": {}
      },
      "source": [
        "from sklearn.ensemble import RandomForestClassifier\n",
        "from sklearn.datasets import load_wine\n",
        "from sklearn.metrics import accuracy_score"
      ],
      "execution_count": 0,
      "outputs": []
    },
    {
      "cell_type": "markdown",
      "metadata": {
        "id": "vmCVOGzB3I_c",
        "colab_type": "text"
      },
      "source": [
        "Now, from the `load_wine` dataset we extract the X (features) and y (target)"
      ]
    },
    {
      "cell_type": "code",
      "metadata": {
        "id": "ryV-_YzDB4GO",
        "colab_type": "code",
        "colab": {}
      },
      "source": [
        "features, target = load_wine(return_X_y=True)"
      ],
      "execution_count": 0,
      "outputs": []
    },
    {
      "cell_type": "markdown",
      "metadata": {
        "id": "yxuEgLSs4g8C",
        "colab_type": "text"
      },
      "source": [
        "# Creating our model\n",
        "\n",
        "The process of creation and evaluation of our model follows the below steps:\n",
        "\n",
        "1. Instantiate a model with specified hyperparameters: this will configure the machine learning model you want to train.\n",
        "2. Train the model with training data: during this step, the model will learn the best parameters to get predictions as close as possible to the actual values of the target.\n",
        "3. Predict the outcome from input data: using the learned parameter, the model will predict the outcome for new data.\n",
        "4. Assess the performance of the model predictions: for checking whether the model learned the right patterns to get accurate predictions."
      ]
    },
    {
      "cell_type": "code",
      "metadata": {
        "id": "FX6eCrR_CCO5",
        "colab_type": "code",
        "colab": {}
      },
      "source": [
        "rf = RandomForestClassifier(random_state=1) # step 1"
      ],
      "execution_count": 0,
      "outputs": []
    },
    {
      "cell_type": "code",
      "metadata": {
        "id": "yucNxhu-CRVp",
        "colab_type": "code",
        "outputId": "c6afb284-7061-4f4a-a1d9-80617971bc09",
        "colab": {
          "base_uri": "https://localhost:8080/",
          "height": 166
        }
      },
      "source": [
        "rf.fit(features, target) # step 2"
      ],
      "execution_count": 0,
      "outputs": [
        {
          "output_type": "execute_result",
          "data": {
            "text/plain": [
              "RandomForestClassifier(bootstrap=True, ccp_alpha=0.0, class_weight=None,\n",
              "                       criterion='gini', max_depth=None, max_features='auto',\n",
              "                       max_leaf_nodes=None, max_samples=None,\n",
              "                       min_impurity_decrease=0.0, min_impurity_split=None,\n",
              "                       min_samples_leaf=1, min_samples_split=2,\n",
              "                       min_weight_fraction_leaf=0.0, n_estimators=100,\n",
              "                       n_jobs=None, oob_score=False, random_state=1, verbose=0,\n",
              "                       warm_start=False)"
            ]
          },
          "metadata": {
            "tags": []
          },
          "execution_count": 5
        }
      ]
    },
    {
      "cell_type": "code",
      "metadata": {
        "id": "BsUIEgHyCXpP",
        "colab_type": "code",
        "outputId": "64f180b3-69ed-42d8-c3d8-6f6e849de834",
        "colab": {
          "base_uri": "https://localhost:8080/",
          "height": 184
        }
      },
      "source": [
        "pred = rf.predict(features) # step 3\n",
        "pred"
      ],
      "execution_count": 0,
      "outputs": [
        {
          "output_type": "execute_result",
          "data": {
            "text/plain": [
              "array([0, 0, 0, 0, 0, 0, 0, 0, 0, 0, 0, 0, 0, 0, 0, 0, 0, 0, 0, 0, 0, 0,\n",
              "       0, 0, 0, 0, 0, 0, 0, 0, 0, 0, 0, 0, 0, 0, 0, 0, 0, 0, 0, 0, 0, 0,\n",
              "       0, 0, 0, 0, 0, 0, 0, 0, 0, 0, 0, 0, 0, 0, 0, 1, 1, 1, 1, 1, 1, 1,\n",
              "       1, 1, 1, 1, 1, 1, 1, 1, 1, 1, 1, 1, 1, 1, 1, 1, 1, 1, 1, 1, 1, 1,\n",
              "       1, 1, 1, 1, 1, 1, 1, 1, 1, 1, 1, 1, 1, 1, 1, 1, 1, 1, 1, 1, 1, 1,\n",
              "       1, 1, 1, 1, 1, 1, 1, 1, 1, 1, 1, 1, 1, 1, 1, 1, 1, 1, 1, 1, 2, 2,\n",
              "       2, 2, 2, 2, 2, 2, 2, 2, 2, 2, 2, 2, 2, 2, 2, 2, 2, 2, 2, 2, 2, 2,\n",
              "       2, 2, 2, 2, 2, 2, 2, 2, 2, 2, 2, 2, 2, 2, 2, 2, 2, 2, 2, 2, 2, 2,\n",
              "       2, 2])"
            ]
          },
          "metadata": {
            "tags": []
          },
          "execution_count": 6
        }
      ]
    },
    {
      "cell_type": "code",
      "metadata": {
        "id": "0tNQWIa6Cp9x",
        "colab_type": "code",
        "outputId": "747a7272-fd03-4d76-a5f1-9eb95434d3a0",
        "colab": {
          "base_uri": "https://localhost:8080/",
          "height": 36
        }
      },
      "source": [
        "acc = accuracy_score(target, pred) # step 4\n",
        "acc"
      ],
      "execution_count": 0,
      "outputs": [
        {
          "output_type": "execute_result",
          "data": {
            "text/plain": [
              "1.0"
            ]
          },
          "metadata": {
            "tags": []
          },
          "execution_count": 8
        }
      ]
    },
    {
      "cell_type": "markdown",
      "metadata": {
        "id": "0gwvrVLG5Ll8",
        "colab_type": "text"
      },
      "source": [
        "We achieved an accuracy score of 100% with our model"
      ]
    }
  ]
}